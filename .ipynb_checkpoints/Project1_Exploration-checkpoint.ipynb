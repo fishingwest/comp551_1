{
 "cells": [
  {
   "cell_type": "code",
   "execution_count": 4,
   "metadata": {
    "collapsed": true
   },
   "outputs": [],
   "source": [
    "import pandas as pd\n",
    "import numpy as np\n",
    "import csv\n",
    "import sys"
   ]
  },
  {
   "cell_type": "code",
   "execution_count": 21,
   "metadata": {
    "collapsed": false
   },
   "outputs": [],
   "source": []
  },
  {
   "cell_type": "code",
   "execution_count": 42,
   "metadata": {
    "collapsed": true
   },
   "outputs": [],
   "source": [
    "COLS = ['PARTICIPANT_ID','EVENT_DATE','EVENT_NAME','EVENT_TYPE','TIME','CATEGORY']"
   ]
  },
  {
   "cell_type": "code",
   "execution_count": 122,
   "metadata": {
    "collapsed": false
   },
   "outputs": [],
   "source": [
    "# Code to convert columns into rows\n",
    "# Updated thanks to observation by Ramchalam\n",
    "df = pd.DataFrame(columns=COLS)\n",
    "unclean_data = csv.reader(open(\"Project1_data.csv\",\"rb\"))\n",
    "ct = 0\n",
    "for row in unclean_data:\n",
    "    ct = ct + 1\n",
    "    if ct == 1:\n",
    "        continue\n",
    "    #print row\n",
    "    r = row\n",
    "    n = []\n",
    "    idn = r.pop(0)\n",
    "    #print idn,\n",
    "    t = 0\n",
    "    for j in r:\n",
    "        #print j\n",
    "        #print t\n",
    "        if t % 5 == 0:\n",
    "            if t != 0:\n",
    "                df = df.append(pd.DataFrame([n],columns=COLS))\n",
    "            n = []\n",
    "            n.append(idn)\n",
    "            n.append(j)\n",
    "        else:\n",
    "            n.append(j)\n",
    "        t = t + 1\n",
    "    df = df.append(pd.DataFrame([n],columns=COLS))\n",
    "    #if ct > 5:\n",
    "    #   sys.exit(0)"
   ]
  },
  {
   "cell_type": "code",
   "execution_count": 125,
   "metadata": {
    "collapsed": false
   },
   "outputs": [
    {
     "data": {
      "text/plain": [
       "26961"
      ]
     },
     "execution_count": 125,
     "metadata": {},
     "output_type": "execute_result"
    }
   ],
   "source": [
    "# Total Count\n",
    "len(df)"
   ]
  },
  {
   "cell_type": "code",
   "execution_count": 20,
   "metadata": {
    "collapsed": false
   },
   "outputs": [
    {
     "data": {
      "text/plain": [
       "<_csv.reader at 0x7fcfa405b1a0>"
      ]
     },
     "execution_count": 20,
     "metadata": {},
     "output_type": "execute_result"
    }
   ],
   "source": [
    "unclean_data"
   ]
  },
  {
   "cell_type": "code",
   "execution_count": 50,
   "metadata": {
    "collapsed": true
   },
   "outputs": [],
   "source": [
    "df.to_csv('aggregated.csv')"
   ]
  },
  {
   "cell_type": "code",
   "execution_count": 97,
   "metadata": {
    "collapsed": false,
    "scrolled": true
   },
   "outputs": [
    {
     "data": {
      "text/html": [
       "<div>\n",
       "<table border=\"1\" class=\"dataframe\">\n",
       "  <thead>\n",
       "    <tr style=\"text-align: right;\">\n",
       "      <th></th>\n",
       "      <th>PARTICIPANT_ID</th>\n",
       "      <th>EVENT_DATE</th>\n",
       "      <th>EVENT_NAME</th>\n",
       "      <th>EVENT_TYPE</th>\n",
       "      <th>TIME</th>\n",
       "      <th>CATEGORY</th>\n",
       "      <th>GENDER</th>\n",
       "    </tr>\n",
       "  </thead>\n",
       "  <tbody>\n",
       "    <tr>\n",
       "      <th>0</th>\n",
       "      <td>1</td>\n",
       "      <td>2016-08-21</td>\n",
       "      <td>Ironman 70.3 Timberman</td>\n",
       "      <td>Individual</td>\n",
       "      <td>04:59:33</td>\n",
       "      <td>M40-44</td>\n",
       "      <td>M</td>\n",
       "    </tr>\n",
       "    <tr>\n",
       "      <th>0</th>\n",
       "      <td>1</td>\n",
       "      <td>2016-07-31</td>\n",
       "      <td>Trimemphré Magog</td>\n",
       "      <td>Triathlon Sprint</td>\n",
       "      <td>01:15:04</td>\n",
       "      <td>M40-44</td>\n",
       "      <td>M</td>\n",
       "    </tr>\n",
       "    <tr>\n",
       "      <th>0</th>\n",
       "      <td>1</td>\n",
       "      <td>2016-06-27</td>\n",
       "      <td>Ironman 70.3 Mont-Tremblant</td>\n",
       "      <td>Individuel</td>\n",
       "      <td>05:24:08</td>\n",
       "      <td>M40-44</td>\n",
       "      <td>M</td>\n",
       "    </tr>\n",
       "    <tr>\n",
       "      <th>0</th>\n",
       "      <td>1</td>\n",
       "      <td>2016-06-05</td>\n",
       "      <td>Triathlon Challenge Antoine-Manseau Joliette</td>\n",
       "      <td>Triathlon sprint AG Coupe du Québec</td>\n",
       "      <td>01:12:04</td>\n",
       "      <td>M40-44</td>\n",
       "      <td>M</td>\n",
       "    </tr>\n",
       "    <tr>\n",
       "      <th>0</th>\n",
       "      <td>1</td>\n",
       "      <td>2016-04-24</td>\n",
       "      <td>Banque Scotia 21K de Montreal</td>\n",
       "      <td>Demi-Marathon</td>\n",
       "      <td>-1</td>\n",
       "      <td>M40-44</td>\n",
       "      <td>M</td>\n",
       "    </tr>\n",
       "  </tbody>\n",
       "</table>\n",
       "</div>"
      ],
      "text/plain": [
       "  PARTICIPANT_ID  EVENT_DATE                                    EVENT_NAME  \\\n",
       "0              1  2016-08-21                        Ironman 70.3 Timberman   \n",
       "0              1  2016-07-31                              Trimemphré Magog   \n",
       "0              1  2016-06-27                   Ironman 70.3 Mont-Tremblant   \n",
       "0              1  2016-06-05  Triathlon Challenge Antoine-Manseau Joliette   \n",
       "0              1  2016-04-24                 Banque Scotia 21K de Montreal   \n",
       "\n",
       "                            EVENT_TYPE      TIME CATEGORY GENDER  \n",
       "0                           Individual  04:59:33   M40-44      M  \n",
       "0                     Triathlon Sprint  01:15:04   M40-44      M  \n",
       "0                           Individuel  05:24:08   M40-44      M  \n",
       "0  Triathlon sprint AG Coupe du Québec  01:12:04   M40-44      M  \n",
       "0                        Demi-Marathon        -1   M40-44      M  "
      ]
     },
     "execution_count": 97,
     "metadata": {},
     "output_type": "execute_result"
    }
   ],
   "source": [
    "df.head()"
   ]
  },
  {
   "cell_type": "markdown",
   "metadata": {},
   "source": [
    "# Cleaning Process"
   ]
  },
  {
   "cell_type": "code",
   "execution_count": 74,
   "metadata": {
    "collapsed": false
   },
   "outputs": [
    {
     "data": {
      "text/plain": [
       "Marathon                                4573\n",
       "Demi-Marathon                           2736\n",
       "10 KM                                   1905\n",
       "5 KM                                     857\n",
       "Ottawa Marathon                          673\n",
       "21 KM                                    670\n",
       "20 KM                                    534\n",
       "Half Marathon                            388\n",
       "Triathlon Olympique                      349\n",
       "30 km                                    330\n",
       "Triathlon Sprint                         270\n",
       "21.1 KM                                  249\n",
       "Scotiabank Ottawa Marathon               247\n",
       "Ottawa Half-Marathon - Demi-marathon     213\n",
       "Ottawa Half Marathon                     176\n",
       "Overall                                  172\n",
       "Scotiabank Ottawa Half Marathon          138\n",
       "Overall Results                          134\n",
       "Individuel                               113\n",
       "Duathlon Olympique                        87\n",
       "Ottawa 10K                                80\n",
       "70.3 Results                              78\n",
       "Sprint Triathlon                          66\n",
       "15 km                                     64\n",
       "Demi Esprit                               58\n",
       "Half Marathon - Demi Marathon             56\n",
       "Ironman 5150- Triathlon Olympique         53\n",
       "Full Marathon                             52\n",
       "Duathlon Sprint                           51\n",
       "Resultats                                 48\n",
       "                                        ... \n",
       "Défi 6 km Le Coureur nordique              1\n",
       "10k (Half Marathoners)                     1\n",
       "10km Chaussures Mille-pattes               1\n",
       "Short Course- By Time                      1\n",
       "Ironman 70.3 Monterrey Results             1\n",
       "Iron 226 SwimCycle                         1\n",
       "55km Classique                             1\n",
       "Piccolo Fondo (80 KM)                      1\n",
       "10.5 km - Course                           1\n",
       "Long Course Triathlon                      1\n",
       "5K Run                                     1\n",
       "Triathlon initiation - 10-99 ans           1\n",
       "Triathlon Groupe D'age                     1\n",
       "Olympic Distance Triathlon                 1\n",
       "Ironman Los Cabos Results                  1\n",
       "8km Run                                    1\n",
       "Defi Des Entreprises                       1\n",
       "Olympic Duathlon                           1\n",
       "10 km run/walk                             1\n",
       "38km style libre                           1\n",
       "Standard Distance Championships            1\n",
       "UPS 10 km                                  1\n",
       "Cross-Country - 2 km                       1\n",
       "Groupes d'ages                             1\n",
       "20km classique                             1\n",
       "Saskatchewan Credit Unions 42.2K Run       1\n",
       "Gran Fondo                                 1\n",
       "5km Run                                    1\n",
       "17.5 km                                    1\n",
       "1 km - Maxi                                1\n",
       "Name: EVENT_TYPE, dtype: int64"
      ]
     },
     "execution_count": 74,
     "metadata": {},
     "output_type": "execute_result"
    }
   ],
   "source": [
    "df.EVENT_TYPE.value_counts()"
   ]
  },
  {
   "cell_type": "code",
   "execution_count": 73,
   "metadata": {
    "collapsed": false
   },
   "outputs": [],
   "source": [
    "#df.EVENT_TYPE = df.EVENT_TYPE.replace('10 km','10 KM')\n",
    "#df.EVENT_TYPE = df.EVENT_TYPE.replace('5 km','5 KM')\n",
    "#df.EVENT_TYPE = df.EVENT_TYPE.replace('Demi Marathon','Demi-Marathon')\n",
    "#df.EVENT_TYPE = df.EVENT_TYPE.replace('Demi-marathon','Demi-Marathon')\n",
    "#df.EVENT_TYPE = df.EVENT_TYPE.replace('21 km','21 KM')\n",
    "#df.EVENT_TYPE = df.EVENT_TYPE.replace('20 Km Route','20 KM')\n",
    "#df.EVENT_TYPE = df.EVENT_TYPE.replace('20 km Route','20 KM')\n",
    "#df.EVENT_TYPE = df.EVENT_TYPE.replace('10km','10 KM')\n",
    "#df.EVENT_TYPE = df.EVENT_TYPE.replace('20 km','20 KM')\n",
    "#df.EVENT_TYPE = df.EVENT_TYPE.replace('21.1 km','21.1 KM')\n",
    "#df.EVENT_TYPE = df.EVENT_TYPE.replace('21,1 km','21.1 KM')\n",
    "df.EVENT_TYPE = df.EVENT_TYPE.replace('20 km route','20 KM')"
   ]
  },
  {
   "cell_type": "code",
   "execution_count": 75,
   "metadata": {
    "collapsed": true
   },
   "outputs": [],
   "source": [
    "df.to_csv('cleaning.csv')"
   ]
  },
  {
   "cell_type": "code",
   "execution_count": 96,
   "metadata": {
    "collapsed": false
   },
   "outputs": [],
   "source": [
    "df['GENDER'] = df.CATEGORY.apply(lambda x : (str(x)+\" \")[0])"
   ]
  },
  {
   "cell_type": "code",
   "execution_count": 102,
   "metadata": {
    "collapsed": false
   },
   "outputs": [
    {
     "data": {
      "text/plain": [
       "0    40-44\n",
       "0    40-44\n",
       "0    40-44\n",
       "0    40-44\n",
       "0    40-44\n",
       "0    40-44\n",
       "0    40-49\n",
       "0    40-44\n",
       "0    30-39\n",
       "0    35-39\n",
       "0    35-39\n",
       "0    30-39\n",
       "0    35-39\n",
       "0    30-39\n",
       "0    40-44\n",
       "0    40-49\n",
       "0    40-44\n",
       "0    40-44\n",
       "0    30-34\n",
       "0    35-39\n",
       "0      13+\n",
       "0      13+\n",
       "0    30-39\n",
       "0    30-39\n",
       "0    30-39\n",
       "0      13+\n",
       "0    35-39\n",
       "0    35-39\n",
       "0    30-39\n",
       "0    35-39\n",
       "     ...  \n",
       "0    50-59\n",
       "0    50-54\n",
       "0    45-49\n",
       "0    45-49\n",
       "0    35-39\n",
       "0    30-34\n",
       "0    25-29\n",
       "0    30-39\n",
       "0    30-39\n",
       "0    30-34\n",
       "0    30-34\n",
       "0    30-39\n",
       "0    30-34\n",
       "0    25-29\n",
       "0    25-29\n",
       "0    25-29\n",
       "0    20-29\n",
       "0    30-39\n",
       "0    20-29\n",
       "0    25-29\n",
       "0    40-49\n",
       "0    40-49\n",
       "0    40-49\n",
       "0    40-49\n",
       "0    35-39\n",
       "0    30-39\n",
       "0    30-39\n",
       "0    30-39\n",
       "0    35-39\n",
       "0    36-45\n",
       "Name: CATEGORY, dtype: object"
      ]
     },
     "execution_count": 102,
     "metadata": {},
     "output_type": "execute_result"
    }
   ],
   "source": [
    "df.CATEGORY.apply(lambda x : (str(x)+\" \")[1:-1])"
   ]
  },
  {
   "cell_type": "code",
   "execution_count": 86,
   "metadata": {
    "collapsed": false
   },
   "outputs": [
    {
     "data": {
      "text/plain": [
       "'M'"
      ]
     },
     "execution_count": 86,
     "metadata": {},
     "output_type": "execute_result"
    }
   ],
   "source": [
    "s[0]"
   ]
  },
  {
   "cell_type": "code",
   "execution_count": 124,
   "metadata": {
    "collapsed": false
   },
   "outputs": [
    {
     "data": {
      "text/html": [
       "<div>\n",
       "<table border=\"1\" class=\"dataframe\">\n",
       "  <thead>\n",
       "    <tr style=\"text-align: right;\">\n",
       "      <th></th>\n",
       "      <th>PARTICIPANT_ID</th>\n",
       "      <th>EVENT_DATE</th>\n",
       "      <th>EVENT_NAME</th>\n",
       "      <th>EVENT_TYPE</th>\n",
       "      <th>TIME</th>\n",
       "      <th>CATEGORY</th>\n",
       "    </tr>\n",
       "  </thead>\n",
       "  <tbody>\n",
       "    <tr>\n",
       "      <th>0</th>\n",
       "      <td>3</td>\n",
       "      <td>2015-09-20</td>\n",
       "      <td>Marathon Oasis Rock 'n' Roll de Montreal</td>\n",
       "      <td>Marathon</td>\n",
       "      <td>04:16:00</td>\n",
       "      <td>M15-17</td>\n",
       "    </tr>\n",
       "  </tbody>\n",
       "</table>\n",
       "</div>"
      ],
      "text/plain": [
       "  PARTICIPANT_ID  EVENT_DATE                                EVENT_NAME  \\\n",
       "0              3  2015-09-20  Marathon Oasis Rock 'n' Roll de Montreal   \n",
       "\n",
       "  EVENT_TYPE      TIME CATEGORY  \n",
       "0   Marathon  04:16:00   M15-17  "
      ]
     },
     "execution_count": 124,
     "metadata": {},
     "output_type": "execute_result"
    }
   ],
   "source": [
    "df[df.PARTICIPANT_ID == '3']"
   ]
  },
  {
   "cell_type": "code",
   "execution_count": null,
   "metadata": {
    "collapsed": true
   },
   "outputs": [],
   "source": []
  }
 ],
 "metadata": {
  "kernelspec": {
   "display_name": "Python 2",
   "language": "python",
   "name": "python2"
  },
  "language_info": {
   "codemirror_mode": {
    "name": "ipython",
    "version": 2
   },
   "file_extension": ".py",
   "mimetype": "text/x-python",
   "name": "python",
   "nbconvert_exporter": "python",
   "pygments_lexer": "ipython2",
   "version": "2.7.11"
  }
 },
 "nbformat": 4,
 "nbformat_minor": 0
}
